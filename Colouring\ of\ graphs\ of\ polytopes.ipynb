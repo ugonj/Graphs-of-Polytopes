{
 "cells": [
  {
   "cell_type": "markdown",
   "metadata": {},
   "source": [
    "# Colouring of graphs of polytopes\n",
    "\n",
    "**Guillermo Pineda-Villavicencio** and **Julien Ugon**\n",
    "\n",
    "*(Deakin University, Australia)*"
   ]
  },
  {
   "cell_type": "markdown",
   "metadata": {},
   "source": [
    "## Abstract\n",
    "\n",
    "\n",
    "Hadwiger conjectured the following. \n",
    "\n",
    "**Hadwidger's conjecture:** For every $t\\ge 2$, every graph with no $K_{t}$-minor is $(t-1)$-vertex-colourable. \n",
    "\n",
    "Every topological minor is a minor, and so the following conjecture of Hajos strengthens Hadwiger's.  \n",
    "\n",
    "**Hajos' conjecture:** For every $t\\ge 2$, every graph with no $K_{t}$-topological-minor is $(t-1)$-vertex-colourable. \n",
    "\n",
    "In the report we consult the available  databases for polytopes (Firsching, n.d.) and (Miyata, Moriyama, and Fukuda n.d.), and established the veracity of   Hajos', and thus of Hadwiger's,   for $d$-polytopes on $n$ vertices for the pairs $(d,n)=(4,6-9),(5,7-9),(6,8-9),(7,9)$. \n",
    "\n",
    "Catlin (1979) gave counterexamples to Hajos' conjecture for all $t\\ge 7$. His counterexamples are obtained from line graphs of multicycles whose edges have been replaced with multiple edges. The multigraph $_k{C_{2n+1}}$ is obtained from the cycle $C_{2n+1}$ of length $2n+1$ by replacing each edge $xy$ with $k$ edges joining $x$ to $y$. The <i>line graph</i> of $_k{C_{2n+1}}$ is denoted by $L(_k{C_{2n+1}})$.\n",
    "\n",
    "Let $G_{3,5}$ denote the graph obtained from $L(_3{C_{5}})$ by deleting two nonadjavent vertices. Catlin showed that the chromatic number of $G_{3,5}$ is 7, while its <i>subdivision number</i>, the largest integer $t$ such that $G_{3,5}$ has $K_t$ as topological minor, is 6. Hence it violates Hajos' conjecture. We show that $G_{3,5}$ is not the graph of a polytope.   \n",
    "\n",
    "In addition, consulting the database of the polytopal simplicial 3-spheres on a small number of vertices (Firsching, n.d.), we answered affirmatively the following question of Thompson question for simple $4$-polytopes a small number of facets, namely 6-9 facets (See Kalai 2014). \n",
    "\n",
    "**Thompson's question:** Are graphs of simple $d$-polytopes with an even number of vertices $d$-edge-colourable? "
   ]
  },
  {
   "cell_type": "markdown",
   "metadata": {},
   "source": [
    "## 1. Introduction\n",
    "\n",
    "We report on the results of experiments on the validity of Hajós’ and Thomson’s conjectures on graphs of polytopes.\n",
    "This is a Sage notebook, and therefore, to run it you need to have Sage (Stein and Joyner 2005) installed.\n",
    "\n",
    "The latest version of  this  file can be found  at (Ugon,  n.d.)\n",
    "\n",
    "In order to run this program, please download the files provided at http://www-imai.is.s.u-tokyo.ac.jp/~hmiyata/oriented_matroids/ and unzip the files in the folder.\n",
    "The list of files to  download are:\n",
    "* polytope_n5d4.txt\n",
    "* polytope_n6d4.txt\n",
    "* polytope_n7d4.txt\n",
    "* polytope_n8d4.txt\n",
    "* polytope_n6d5.txt\n",
    "* polytope_n7d5.txt\n",
    "* polytope_n8d5.txt\n",
    "* polytope_n9d5.zip *(this file needs to be unziped)*\n",
    "* polytope_n7d6.txt\n",
    "* polytope_n8d6.txt\n",
    "* polytope_n9d6.txt\n",
    "* polytope_n8d7.txt\n",
    "* polytope_n9d7.txt\n",
    "\n",
    "If the files are not found in the folder, they will be downloaded automatically.\n",
    "\n",
    "These files contain all $d$-polytopes on $n$ vertices for the pairs $(d,n)=(4,6-8),(5,7-9),(6,8-9),(7,9)$.\n",
    "\n",
    "You will also need to download some files provided at http://page.mi.fu-berlin.de/moritz/polys/inscribe/, which contain additional polytopes, namely all 4-polyopes on 9 vertices and all simplicial polytopes on 9 vertices. These files are:\n",
    "* all4polytopes9vertices.txt\n",
    "* polytopalsimplicialspheres9_4.txt\n",
    "\n",
    "Again, these files will be downloaded automatically if they are not found in the folder.\n",
    "\n",
    "Finally, if you are running this notebook, a word of advice: we have left the experiment on checking Hajos' conjecture on 4-polytopes on 9 vertices for the end of this notebook, because this experiment takes a long time. You should be able to run every other experiment before this one in a reasonable time."
   ]
  },
  {
   "cell_type": "markdown",
   "metadata": {},
   "source": [
    "### Initial functions and preliminaries"
   ]
  },
  {
   "cell_type": "code",
   "execution_count": 1,
   "metadata": {},
   "outputs": [],
   "source": [
    "from urllib.request import urlretrieve\n",
    "import zipfile\n",
    "from pathlib import Path"
   ]
  },
  {
   "cell_type": "code",
   "execution_count": 2,
   "metadata": {},
   "outputs": [],
   "source": [
    "## Download the files if necessary\n",
    "\n",
    "polytopeParameters = [(4,6),(4,7),(4,8),(5,7),(5,8),(5,9),(6,8),(6,9),(7,9)]\n",
    "\n",
    "stem = \"http://www-imai.is.s.u-tokyo.ac.jp/~hmiyata/oriented_matroids/\"\n",
    "\n",
    "polytopeFiles = [\"polytope_n%dd%d\"%(n,d) for (d,n) in polytopeParameters]\n",
    "\n",
    "for f in polytopeFiles:\n",
    "    if not Path(f+\".txt\").is_file():\n",
    "        print(\"Retrieving \"+f+\".txt\")\n",
    "        try:\n",
    "            urlretrieve(stem+f+\".txt\",f+\".txt\")\n",
    "        except:\n",
    "            urlretrieve(stem+f+\".zip\",f+\".zip\")\n",
    "            with zipfile.ZipFile(f+\".zip\", 'r') as zfile:\n",
    "                zfile.extractall(\"./\")"
   ]
  },
  {
   "cell_type": "code",
   "execution_count": 3,
   "metadata": {},
   "outputs": [],
   "source": [
    "def getFacets(fname):\n",
    "    \"\"\"\n",
    "    Get the list of facets from a file:\n",
    "\n",
    "    Input: A file in the format as in  (Miyata, Moriyama, and Fukuda n.d.)\n",
    "    Output: A list of list of vertices. Each sublist contains the vertices of a facet.\n",
    "    \"\"\"\n",
    "    if isinstance(fname,str):\n",
    "        try:\n",
    "            return getFacets(open(fname,\"r\"))\n",
    "        except:\n",
    "            return []\n",
    "    \n",
    "    return [[Set(eval(f)) for f in l.split()] for l in fname]"
   ]
  },
  {
   "cell_type": "code",
   "execution_count": 4,
   "metadata": {},
   "outputs": [],
   "source": [
    "def intersect(*args):\n",
    "    \"\"\"\n",
    "    Compute the intersection of sets\n",
    "\n",
    "    Input: A list of sets\n",
    "    Output: The intersection, as a set\n",
    "    \"\"\"\n",
    "    if(len(args)) == 0:\n",
    "        return Set()\n",
    "    return args[0].intersection(intersect(*args[1:]))\n",
    "\n",
    "def union(*args):\n",
    "    \"\"\"\n",
    "    Compute the union of sets\n",
    "\n",
    "    Input: A list of sets\n",
    "    Output: The union, as a set\n",
    "    \"\"\"\n",
    "    if(len(args)) == 0:\n",
    "        return Set()\n",
    "    return args[0].union(union(*args[1:]))"
   ]
  },
  {
   "cell_type": "code",
   "execution_count": 5,
   "metadata": {},
   "outputs": [],
   "source": [
    "def findEdges(facets):\n",
    "    \"\"\"\n",
    "    Given a facet-vertex incidence, find the edges.\n",
    "\n",
    "    This works as follows:\n",
    "    - take all possible pairs of vertices (C(n,2));\n",
    "    - For each pair, take all the facets containing both vertices\n",
    "    - The  intersection of these facets is precisely these two vertices if and only if it's an edge.\n",
    "\n",
    "    Input: A list of lists, where each sublist is the vertex list of a facet.\n",
    "    Output: A list of pairs (tuples). Each tuple represents an edge.\n",
    "    \"\"\"\n",
    "    vertices = union(*facets)\n",
    "    #take all pairs of vertices:\n",
    "    V = [(v,w) for v in vertices for w in vertices if v<w]\n",
    "    L = []\n",
    "    U = Set(vertices)\n",
    "    for (v,w) in V:\n",
    "        F = [f for  f in facets if v in f and w in f]\n",
    "        E = intersect(*F)\n",
    "        if E.cardinality() == 2:\n",
    "            L.append(E)\n",
    "    return [tuple(e) for e in L]"
   ]
  },
  {
   "cell_type": "markdown",
   "metadata": {},
   "source": [
    "## 2. Hajós’ conjecture\n",
    "\n",
    "Hajós’ conjecture states that:\n",
    "\n",
    "**Hajos' conjecture:** For every $t\\geq 2$, every graph with no $K_t$-topological-minor is\n",
    "$(t−1)$-vertex-colourable."
   ]
  },
  {
   "cell_type": "markdown",
   "metadata": {},
   "source": [
    "### 2.1 Small graphs\n",
    "\n",
    "We tested Hajós’ conjecture on the graph of all the polytopes provided\n",
    "by (Miyata, Moriyama, and Fukuda n.d.). More precisely, we check, on the graph of thoese polytopes, whether the following statement is true:\n",
    "\n",
    "**Hajos' conjecture (contrapositive):** For $t\\geq 2$, if $\\chi(G) = t$, then $G$ contains a $K_t$-topological minor. \n",
    "\n",
    "We applied the following algorithm:\n",
    "\n",
    "1.  Compute the graph of the polytope;\n",
    "\n",
    "2.  Compute the chromatic number $t$ of the graph;\n",
    "\n",
    "3.  Verify that $K_t$ is a topological minor of the graph.\n",
    "\n"
   ]
  },
  {
   "cell_type": "code",
   "execution_count": 6,
   "metadata": {},
   "outputs": [],
   "source": [
    "def satisfiesHajos(G):\n",
    "    \"\"\"\n",
    "    Check if a graph satisfies Hajos' conjecture.\n",
    "\n",
    "    Input: A graph\n",
    "    Output: A boolean: true if the graph satisfies Hajos, false otherwise.\n",
    "    \"\"\"\n",
    "    # Compute the Chromatic Number\n",
    "    C = G.chromatic_number();\n",
    "    # Find a topological minor $K_C$ in G, if possible\n",
    "    m = G.topological_minor(graphs.CompleteGraph(C))\n",
    "    return m != false\n",
    "\n",
    "\n",
    "def findCounterExamplesHajos(L):\n",
    "    \"\"\"\n",
    "    Find the sublist of counter-examples to Hajós' conjecture in a list of graphs.\n",
    "\n",
    "    Input: A list of graphs\n",
    "    Output: A list of graphs that do not satisfy Hajós' conjecture (can be empty)\n",
    "    \"\"\"\n",
    "    return [G for G in L if not satisfiesHajos(G)]\n",
    "\n",
    "\n",
    "def findPolytopeCounterExamplesHajos(L):\n",
    "    \"\"\"\n",
    "    Find the sublist of polytopes whose graph fails to satisfy Hajós' conjecture, from a list of polytopes.\n",
    "\n",
    "    Input: A list of polytopes (given by the list of facets)\n",
    "    Output: A list of polytopes whose graph do not satisfy Hajós' conjecture.\n",
    "    \"\"\"\n",
    "    return[P for P in L if not satisfiesHajos(Graph(findEdges(P)))]"
   ]
  },
  {
   "cell_type": "code",
   "execution_count": 7,
   "metadata": {},
   "outputs": [
    {
     "name": "stdout",
     "output_type": "stream",
     "text": [
      "[]\n"
     ]
    }
   ],
   "source": [
    "## Read the polyopes from the list of files:\n",
    "hajos = [findPolytopeCounterExamplesHajos(getFacets(\"polytope_n%dd%d.txt\"%(n,d))) for (d,n) in polytopeParameters]\n",
    "\n",
    "## This will return the list of polytopes whose graphs do not satisfy Hajós' conjecture in the list.\n",
    "print(sum(hajos,[]))"
   ]
  },
  {
   "cell_type": "markdown",
   "metadata": {},
   "source": [
    "This list is empty. Therefore we found no counterexample in the polytopes that we checked. All of them have graphs satisfying Hajós' conjecture."
   ]
  },
  {
   "cell_type": "markdown",
   "metadata": {},
   "source": [
    "### 2.2 Catlin’s Counter examples\n",
    "\n",
    "In this section we consider Catlin’s famous counter-example to Hajós’\n",
    "conjecture (Catlin 1979). In this paper, Catlin gives a family of graphs\n",
    "with chromatic number $n$ that contain no subdivided $K_n$ as a\n",
    "subgraph. The first counter-example is constructed by removing two non-adjacent vertices $v_1$ and $v_2$ from $L_{_3C_5}$ - namely, Catlin shows that $G_{3,5} = L(_3C_5) - \\{v_1,v_2\\}$ contradicts Hajós' conjecture. \n",
    "\n",
    "Here we show that $G_{3,5}$ is not the graph of a polytope."
   ]
  },
  {
   "cell_type": "code",
   "execution_count": 8,
   "metadata": {},
   "outputs": [],
   "source": [
    "## We start by constructing Catlin's counter-example:\n",
    "\n",
    "G35=Graph(multiedges=False);\n",
    "G35.add_edges([(1,2),(1,3),(1,4),(1,5),(1,6),(1,7),(1,8),(2,3),(2,4),(2,5),(2,6),(2,7),(2,8),(3,4),(3,5),(3,4),(3,9),(3,10),(4,5),(4,9),(4,10),(5,9),(5,10),(6,7),(6,8),(6,11),(6,12),(6,13),(7,8),(7,11),(7,12),(7,13),(8,11),(8,12),(8,13),(9,10),(9,11),(9,12),(9,13),(10,11),(10,12),(10,13),(11,12),(11,13),(12,13)])"
   ]
  },
  {
   "cell_type": "markdown",
   "metadata": {},
   "source": [
    "First note that $G$ is not planar, and so cannot be the graph\n",
    "of a 3-polytope. Since it is not 5-connected (the vertices\n",
    "$\\{1,2,9,10\\}$ disconnect the graph, it\n",
    "cannot be the graph of a $d$-polytope for $d\\geq 5$. So, we only need to study the\n",
    "case $d=4$."
   ]
  },
  {
   "cell_type": "code",
   "execution_count": 9,
   "metadata": {},
   "outputs": [
    {
     "name": "stdout",
     "output_type": "stream",
     "text": [
      "The connectivity of the graph is:  4\n",
      "Is the graph planar?  False\n"
     ]
    }
   ],
   "source": [
    "print(\"The connectivity of the graph is: \",G35.vertex_connectivity())\n",
    "print(\"Is the graph planar? \",G35.is_planar())"
   ]
  },
  {
   "cell_type": "markdown",
   "metadata": {},
   "source": [
    "The graphs of the facets of any 4-polytope must be planar, 3-connnected,\n",
    "and should not disconnect the entire graph."
   ]
  },
  {
   "cell_type": "code",
   "execution_count": 10,
   "metadata": {},
   "outputs": [],
   "source": [
    "## Get all the connected subgraphs of G35 of order at most 10.\n",
    "LGraphs =list(G35.connected_subgraph_iterator(k=10))\n",
    "\n",
    "\n",
    "def validSubgraph(H):\n",
    "    \"\"\"\n",
    "    A filter function that  accepts only graphs that are:\n",
    "    - at least 4 vertices\n",
    "    - minimum degree 3\n",
    "    - is planar\n",
    "    - the connectivity is at least 3\n",
    "    \n",
    "    Input: A list of Graphs\n",
    "    Output: A boolean, which is true if all the criteria above are satisfied and false otherwise.\n",
    "    \"\"\"\n",
    "    l = G35.copy()\n",
    "    l.delete_vertices(H.vertices())\n",
    "    return  H.num_verts() >= 4 and  min(H.degree()) > 2  and H.is_planar() and  H.vertex_connectivity() >2 and l.is_connected()\n",
    "    # and not set(H.vertices()).issubset(P)\n",
    "\n",
    "##l2  =filter(validSubgraph,lm35.connected_subgraph_iterator(k=10))\n",
    "l2  = list(filter(validSubgraph,LGraphs))"
   ]
  },
  {
   "cell_type": "markdown",
   "metadata": {},
   "source": [
    "Let us consider those that\n",
    "contain Vertex $3$ and either of vertices 1,2 and 9. The graphs of\n",
    "these facets must be one of the following subgraphs of $G$.\n",
    "\n",
    "We start by finding the subsets containing the edge {1,3}."
   ]
  },
  {
   "cell_type": "code",
   "execution_count": 11,
   "metadata": {},
   "outputs": [
    {
     "name": "stdout",
     "output_type": "stream",
     "text": [
      "[[1, 3, 4, 5, 10], [1, 2, 3, 4], [1, 2, 3, 5], [1, 3, 4, 5], [1, 3, 4, 5, 9]]\n"
     ]
    }
   ],
   "source": [
    "## Get the 3-connected, planar subgraphs containing the edge (1,3):\n",
    "S13 = [l for l in l2 if (1,3,None) in l.edges() or (3,1,None) in l.edges()]\n",
    "print([s.vertices() for s  in S13])"
   ]
  },
  {
   "cell_type": "markdown",
   "metadata": {},
   "source": [
    "The edge $\\{1,3\\}$ must belong to at least three facets amongs the candidates:\n",
    "$\\{1,2,3,4\\}$,$\\{1,2,3,5\\}$,$\\{1,3,4,5,9\\}$,$\\{1,3,4,5,10\\}$,\n",
    "and $\\{1,3,4,5\\}$. At least one of these three facets must contain the\n",
    "vertices $\\{3,4,5\\}$. \n"
   ]
  },
  {
   "cell_type": "markdown",
   "metadata": {},
   "source": [
    "By a similar argument, the edge $\\{2,3\\}$ must\n",
    "also belong to a facet containing the vertices $\\{3,4,5\\}$:"
   ]
  },
  {
   "cell_type": "code",
   "execution_count": 12,
   "metadata": {},
   "outputs": [
    {
     "name": "stdout",
     "output_type": "stream",
     "text": [
      "[[2, 3, 4, 5, 10], [1, 2, 3, 4], [1, 2, 3, 5], [2, 3, 4, 5], [2, 3, 4, 5, 9]]\n"
     ]
    }
   ],
   "source": [
    "S23 = [l for l in l2 if (2,3,None) in l.edges() or (3,2,None) in l.edges()]\n",
    "print([s.vertices() for s  in S23])"
   ]
  },
  {
   "cell_type": "markdown",
   "metadata": {},
   "source": [
    " The\n",
    "intersection between these two facets is either the triangle\n",
    "$\\{3,4,5\\}$, or contains the four vertices $\\{3,4,5,k\\}$ for\n",
    "$k\\in \\{9,10\\}$. We can rule out the latter case, since this would\n",
    "require the graph of this 2-face with 4 vertices to be complete.\n",
    "\n",
    "We can conclude that the sets of vertices $\\{1,3,4,5\\}$ and\n",
    "$\\{2,3,4,5\\}$ both form a facet of the polytope, and that the vertices $\\{3,4,5\\}$ form a ridge."
   ]
  },
  {
   "cell_type": "markdown",
   "metadata": {},
   "source": [
    "The edge$\\{3,9\\}$ must also belong to at least three facets, one of\n",
    "which contains the ridge $\\{3,4,5\\}$:"
   ]
  },
  {
   "cell_type": "code",
   "execution_count": 13,
   "metadata": {},
   "outputs": [
    {
     "name": "stdout",
     "output_type": "stream",
     "text": [
      "[[3, 4, 9, 10], [3, 5, 9, 10], [1, 3, 4, 5, 9], [2, 3, 4, 5, 9], [3, 4, 5, 9]]\n"
     ]
    }
   ],
   "source": [
    "S39 = [l for l in l2 if (3,9,None) in l.edges() or (9,3,None) in l.edges()]\n",
    "print([s.vertices() for s  in S39])"
   ]
  },
  {
   "cell_type": "markdown",
   "metadata": {},
   "source": [
    "This cannot happen, since this\n",
    "would imply that the ridge is contained in three distinct facets.\n",
    "\n",
    "Therefore we conclude that Catlin's example is not the graph of a polytope."
   ]
  },
  {
   "cell_type": "markdown",
   "metadata": {},
   "source": [
    "## 3. Thompson’s conjecture\n",
    "\n",
    "Abigail Thompson posed the following question (Kalai 2014):\n",
    "\n",
    "**Thompson's question:** Graphs of simple $d$-polytopes with an even number of vertices are\n",
    "$d$-colourable.\n",
    "\n",
    "We tested these conjecture of small polytopes provided by (Miyata,\n",
    "Moriyama, and Fukuda n.d.) and (Firsching, n.d.), using the following algorithm. Namely, we\n",
    "selected all simplicial polytopes in this collection with an even number\n",
    "of facets. We then verified that the chromatic numbers of each of these\n",
    "polytopes is at most $d$."
   ]
  },
  {
   "cell_type": "code",
   "execution_count": 14,
   "metadata": {},
   "outputs": [],
   "source": [
    "def dualFacets(f):\n",
    "    \"\"\"\n",
    "    This function returns the facets of the dual polytope, given a list of facets for the primal.\n",
    "\n",
    "    Input: A list of lists, where each sublist is the vertex list of a facet.\n",
    "    Output: A similar list, for the dual polytope.\n",
    "    \"\"\"\n",
    "    nvertices = len(f)\n",
    "    facets = [Set([i for (i,facet) in enumerate(f) if v in facet]) for v in union(*f)]\n",
    "    return facets\n",
    "\n",
    "\n",
    "def isSimplicial(facets,d):\n",
    "    \"\"\"\n",
    "    Verifies that a polytope is simplicial.\n",
    "\n",
    "    Input: A list of lists, where each sublist is the vertex list of a facet.\n",
    "    Output: A boolean: true if the polytope is simplicial, false otherwise.\n",
    "    \"\"\"\n",
    "    #return all(f.cardinality() == d for f in facets)\n",
    "    return all(len(f) == d for f in facets)"
   ]
  },
  {
   "cell_type": "code",
   "execution_count": 15,
   "metadata": {},
   "outputs": [],
   "source": [
    "def satisfiesThompson(G,d):\n",
    "    \"\"\"\n",
    "    Check if a polytope satisfies Thompson's question.\n",
    "\n",
    "    Input: A graph, and a dimension of a polytope\n",
    "    Output: A boolean: true if the graph satisfies Hajos, false otherwise.\n",
    "    \"\"\"\n",
    "    return d >= graph_coloring.edge_coloring(G,value_only=true)\n",
    "\n",
    "def findPolytopeCounterExamplesThompson(L):\n",
    "    \"\"\"\n",
    "    Find the sublist of polytopes whose graph fails to satisfy Hajós' conjecture, from a list of polytopes.\n",
    "\n",
    "    Input: A list of simple polytopes (given by the list of facets)\n",
    "    Output: A list of polytopes whose graph do not satisfy Hajós' conjecture.\n",
    "    \"\"\"\n",
    "    return[P for P in L if not satisfiesThompson(Graph(findEdges(dualFacets(P))),P.dimension())]"
   ]
  },
  {
   "cell_type": "code",
   "execution_count": 16,
   "metadata": {},
   "outputs": [
    {
     "name": "stdout",
     "output_type": "stream",
     "text": [
      "[]\n"
     ]
    }
   ],
   "source": [
    "## Read the polyopes from the list of files:\n",
    "polytopes = [(getFacets(\"polytope_n%dd%d.txt\"%(n,d)),d)  for (d,n) in polytopeParameters]\n",
    "\n",
    "# Get the lists of polytopes which fail to satisfy Thompson's question:\n",
    "thompson = [findPolytopeCounterExamplesThompson(F) for (F,d) in polytopes if len(F)%2 == 0 and isSimplicial(F,d)]\n",
    "\n",
    "## This will return the list of polytopes whose graphs do not satisfy Thompson's question from list.\n",
    "print(sum(thompson,[]))"
   ]
  },
  {
   "cell_type": "markdown",
   "metadata": {},
   "source": [
    "We check separately the case $d=4$ and $n=9$, because  it comes from a different database (Firsching, n.d.), in a different format. \n",
    "\n",
    "This is done below."
   ]
  },
  {
   "cell_type": "code",
   "execution_count": 17,
   "metadata": {},
   "outputs": [],
   "source": [
    "def checkThompson(lines):\n",
    "    \"\"\"\n",
    "    Check Thompson's questions on graphs of simplicial polytopes, with even number of vertices.\n",
    "    More specifically, find a list of polytopes that fail to satisfy Thompson's question.\n",
    "\n",
    "    Input: lines containing realisation of polyopes;\n",
    "    Output: a list of triplets containing the polytope, its graph, and the pair with the chromatic number and the dimension\n",
    "    \"\"\"\n",
    "    polytopes = [Polyhedron(vertices=eval(l[l.index(\"[\"):]),base_ring=QQ) for l in lines]\n",
    "    evenPolytopes = [P.polar() for P in polytopes if P.n_facets()%2 == 0]\n",
    "    return [P for P in evenPolytopes if not satisfiesThompson(P.graph(),P.dimension())]"
   ]
  },
  {
   "cell_type": "code",
   "execution_count": 18,
   "metadata": {},
   "outputs": [],
   "source": [
    "# First, retrieve the file:\n",
    "stem = \"ftp://ftp.imp.fu-berlin.de/pub/moritz/inscribe/\"\n",
    "fname = \"polytopalsimplicialspheres9_4.txt\"\n",
    "\n",
    "if not Path(fname).is_file():\n",
    "    print(\"Retrieving \"+fname)\n",
    "    urlretrieve(stem+fname,fname)"
   ]
  },
  {
   "cell_type": "code",
   "execution_count": 19,
   "metadata": {},
   "outputs": [
    {
     "name": "stdout",
     "output_type": "stream",
     "text": [
      "[]\n"
     ]
    }
   ],
   "source": [
    "# Compute all the counter-examples from the file polytopalsimplicialspheres9_4.txt\n",
    "with open(fname,\"r\") as polytopeFile:\n",
    "    print(checkThompson(polytopeFile.readlines()))"
   ]
  },
  {
   "cell_type": "markdown",
   "metadata": {},
   "source": [
    "## References\n",
    "\n",
    "<div id=\"refs\" class=\"references hanging-indent\">\n",
    "\n",
    "<div id=\"ref-catlin1979hajos\">\n",
    "\n",
    "Catlin, Paul A. 1979. “Hajós’ Graph-Coloring Conjecture: Variations and\n",
    "Counterexamples.” *Journal of Combinatorial Theory, Series B* 26 (2):\n",
    "268–74.\n",
    "\n",
    "</div>\n",
    "<div id=\"ref-firsching\">\n",
    "\n",
    "M. Firsching. “Classifying, realising...”,  Accessed January 3, 2020, <http://page.mi.fu-berlin.de/moritz/polys/inscribe/>.\n",
    "\n",
    "</div>\n",
    "<div id=\"ref-kal14\">\n",
    "\n",
    "Kalai, Gil. 2014. “Coloring Simple Polytopes and Triangulations.” 2014.\n",
    "<https://gilkalai.wordpress.com/2014/12/06/coloring-simple-polytopes-and-triangulations/>.\n",
    "\n",
    "</div>\n",
    "\n",
    "<div id=\"ref-matroids\">\n",
    "\n",
    "Miyata, Hiroyuki, Sonoko Moriyama, and Komei Fukuda. n.d.\n",
    "“Classification of Oriented Matroids.” Accessed January 3, 2020.\n",
    "<http://www-imai.is.s.u-tokyo.ac.jp/~hmiyata/oriented_matroids/>.\n",
    "\n",
    "</div>\n",
    "\n",
    "<div id=\"ref-SteinJoyner2005\">\n",
    "\n",
    "Stein, William, and David Joyner. 2005. “SAGE: System for Algebra and\n",
    "Geometry Experimentation.” *ACM SIGSAM Bulletin* 39 (2): 61–64.\n",
    "<http://www.sagemath.org/files/sage_stein2005.pdf>.\n",
    "\n",
    "</div>\n",
    "\n",
    "<div id=\"ref-repo\">\n",
    "\n",
    "Ugon, Julien. n.d. “Github Repository.”\n",
    "<https://github.com/ugonj/Graphs-of-Polytopes>.\n",
    "\n",
    "</div>\n",
    "\n"
   ]
  },
  {
   "cell_type": "markdown",
   "metadata": {},
   "source": [
    "## Appendix\n",
    "\n",
    "Here we put code that we do not advise you  to  run, as it takes a very long time.\n",
    "\n",
    "Namely, this code verifies Hajós' conjecture on 4-dimensional polytopes with 9 vertices. It does so in several batches, so that the program can be interrupted and started again."
   ]
  },
  {
   "cell_type": "code",
   "execution_count": 20,
   "metadata": {},
   "outputs": [],
   "source": [
    "# First, retrieve the file:\n",
    "stem = \"ftp://ftp.imp.fu-berlin.de/pub/moritz/classification/\"\n",
    "fname = \"all4polytopes9vertices.txt\"\n",
    "\n",
    "if not Path(fname).is_file():\n",
    "    print(\"Retrieving \"+fname)\n",
    "    urlretrieve(stem+fname,fname)"
   ]
  },
  {
   "cell_type": "code",
   "execution_count": 21,
   "metadata": {},
   "outputs": [],
   "source": [
    "\"\"\"\n",
    "Check Hajos' conjecture on graphs of polytopes. More specifically:\n",
    "- Compute  the chromatic number t of the graph;\n",
    "- Check that the graph has K_t as a topological minor.\n",
    "\n",
    "Returns a list of all counter-examples to Hajós' conjecture\n",
    "\"\"\"\n",
    "def checkHajos(lines):\n",
    "    polys = []\n",
    "    for l in lines:\n",
    "       P = Polyhedron(vertices=eval(l[l.index(\"[\"):]),base_ring=QQ)\n",
    "       G = P.graph()\n",
    "       C = G.chromatic_number();\n",
    "       #m = findLargestCompleteTopologicalMinor(G,6)\n",
    "       m = G.topological_minor(graphs.CompleteGraph(C))\n",
    "       #t = findLargestCompleteMinor(G,10)\n",
    "       if not m :\n",
    "           polys.append((P,G,(C,m)))\n",
    "    return polys"
   ]
  },
  {
   "cell_type": "markdown",
   "metadata": {},
   "source": [
    "**Do not run the cell below, unless you are ready to wait!**\n",
    "\n",
    "The experiment has been broken down, so that it can be restarted from when it stopped if necessary. We process 10000 polytopes at each step, by default."
   ]
  },
  {
   "cell_type": "code",
   "execution_count": null,
   "metadata": {},
   "outputs": [],
   "source": [
    "with open(fname,\"r\") as polyFile:\n",
    "    lines = polyFile.readlines()\n",
    "\n",
    "# Do 10000 lines at a time:\n",
    "step = 10000\n",
    "start = 90000\n",
    "for nLines in range(40000,len(lines),step):\n",
    "    print(nLines)\n",
    "    print(checkHajos(lines[nLines:nLines+step]))"
   ]
  }
 ],
 "metadata": {
  "kernelspec": {
   "display_name": "SageMath 9.0",
   "language": "sage",
   "name": "sagemath"
  },
  "language_info": {
   "codemirror_mode": {
    "name": "ipython",
    "version": 3
   },
   "file_extension": ".py",
   "mimetype": "text/x-python",
   "name": "python",
   "nbconvert_exporter": "python",
   "pygments_lexer": "ipython3",
   "version": "3.8.1"
  }
 },
 "nbformat": 4,
 "nbformat_minor": 4
}
