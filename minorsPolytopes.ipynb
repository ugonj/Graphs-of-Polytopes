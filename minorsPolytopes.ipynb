{
 "cells": [
  {
   "cell_type": "markdown",
   "metadata": {},
   "source": [
    "# Colouring of graphs of polytopes\n",
    "\n",
    "Guillermo Pineda-Villavicencio and Julien Ugon\n",
    "Deakin University (Australia)"
   ]
  },
  {
   "cell_type": "markdown",
   "metadata": {},
   "source": [
    "## Introdution\n",
    "\n",
    "We report on the results of experiments on the validity of Hajós’ and Thomson’s conjectures on graphs of polytopes.\n",
    "This is a Sage notebook, and therefore, to run it you need to have Sage (Stein and Joyner 2005) installed.\n",
    "\n",
    "In order to run this program, please download the files provided at http://www-imai.is.s.u-tokyo.ac.jp/~hmiyata/oriented_matroids/ and unzip the files in the folder.\n",
    "The list of files to  download are:\n",
    "polytope_n5d4.txt\n",
    "polytope_n6d4.txt\n",
    "polytope_n7d4.txt\n",
    "polytope_n8d4.txt\n",
    "polytope_n6d5.txt\n",
    "polytope_n7d5.txt\n",
    "polytope_n8d5.txt\n",
    "polytope_n9d5.zip *(this file needs to be unziped)*\n",
    "polytope_n7d6.txt\n",
    "polytope_n8d6.txt\n",
    "polytope_n9d6.txt\n",
    "polytope_n8d7.txt\n",
    "polytope_n9d7.txt\n",
    "\n",
    "These files contain all $d$-polytopes on $n$ vertices for the pairs $(d,n)=(4,6-8),(5,7-9),(6,8-9),(7,9)$."
   ]
  },
  {
   "cell_type": "markdown",
   "metadata": {},
   "source": [
    "## Initial functions"
   ]
  },
  {
   "cell_type": "code",
   "execution_count": 1,
   "metadata": {},
   "outputs": [],
   "source": [
    "\"\"\"\n",
    "Get the list of facets from a file:\n",
    "\"\"\"\n",
    "def getFacets(fname):\n",
    "    if isinstance(fname,str):\n",
    "        try:\n",
    "            return getFacets(open(fname,\"r\"))\n",
    "        except:\n",
    "            return []\n",
    "    \n",
    "    return [[Set(eval(f)) for f in l.split()] for l in fname]"
   ]
  },
  {
   "cell_type": "code",
   "execution_count": 2,
   "metadata": {},
   "outputs": [],
   "source": [
    "def intersect(*args):\n",
    "    if(len(args)) == 1:\n",
    "        return args[0]\n",
    "    return args[0].intersection(intersect(*args[1:]))\n",
    "\n",
    "def union(*args):\n",
    "    if(len(args)) == 1:\n",
    "        return args[0]\n",
    "    return args[0].union(intersect(*args[1:]))"
   ]
  },
  {
   "cell_type": "code",
   "execution_count": 3,
   "metadata": {},
   "outputs": [],
   "source": [
    "\"\"\"\n",
    "Given a facet-vertex incidence, give the edges.\n",
    "\n",
    "This works as follows:\n",
    "- take all possible pairs of vertices (C(n,2));\n",
    "- For each pair, take all the facets containing both vertices\n",
    "- The  intersection of these facets is precisely these two vertices if and only if it's an edge.\n",
    "\"\"\"\n",
    "def findEdges(facets):\n",
    "    vertices = union(*facets)\n",
    "    #take all pairs of vertices:\n",
    "    V = [(v,w) for v in vertices for w in vertices if v<w]\n",
    "    L = []\n",
    "    U = Set(vertices)\n",
    "    for (v,w) in V:\n",
    "        F = [f for  f in facets if v in f and w in f]\n",
    "        E = intersect(*F)\n",
    "        if E.cardinality() == 2:\n",
    "            L.append(E)\n",
    "    return [tuple(e) for e in L]"
   ]
  },
  {
   "cell_type": "markdown",
   "metadata": {},
   "source": [
    "# Hajós’ conjecture\n",
    "\n",
    "Hajós’ conjecture states that:\n",
    "\n",
    "For every $t\\geq 2$, every graph with noKt-topological-minor is\n",
    "$(t−1)$-vertex-colourable."
   ]
  },
  {
   "cell_type": "markdown",
   "metadata": {},
   "source": [
    "## Small graphs\n",
    "\n",
    "We tested Hajós’ conjecture on the graph of all the polytopes provided\n",
    "by (Miyata, Moriyama, and Fukuda n.d.). Namely, we applied the following\n",
    "algorithm:\n",
    "\n",
    "1.  Compute the graph of the polytope;\n",
    "\n",
    "2.  Compute the chromatic number $t$ of the graph;\n",
    "\n",
    "3.  Verify that $K_t$ is a topological minor of the graph.\n",
    "\n"
   ]
  },
  {
   "cell_type": "code",
   "execution_count": 4,
   "metadata": {},
   "outputs": [],
   "source": [
    "def findLargestCompleteTopologicalMinor(H,n):\n",
    "    k = n\n",
    "    while H.topological_minor(graphs.CompleteGraph(k)) :\n",
    "        k = k+1\n",
    "    return k\n",
    "\n",
    "def findLargestCompleteMinor(H,n):\n",
    "    k = n\n",
    "    while not (H.minor(graphs.CompleteGraph(k))) :\n",
    "        k = k-1\n",
    "    return k"
   ]
  },
  {
   "cell_type": "code",
   "execution_count": 5,
   "metadata": {},
   "outputs": [],
   "source": [
    "\"\"\"\n",
    "Check Hajos' conjecture on graphs of polytopes. More specifically:\n",
    "- Compute  the chromatic number t of the graph;\n",
    "- Check that the graph has K_t as a minor.\n",
    "\"\"\"\n",
    "def checkHajos(fname):\n",
    "    fpol = open(fname,\"r\")\n",
    "    lines = fpol.readlines()\n",
    "    fpol.close()\n",
    "    polys = []\n",
    "    for l in lines:\n",
    "       P = Polyhedron(vertices=eval(l[l.index(\"[\"):]),base_ring=QQ)\n",
    "       G = P.graph()\n",
    "       C = G.chromatic_number();\n",
    "       #m = findLargestCompleteTopologicalMinor(G,6)\n",
    "       m = G.minor(graphs.CompleteGraph(C))\n",
    "       #t = findLargestCompleteMinor(G,10)\n",
    "       polys.append((P,G,(C,m)))\n",
    "    return polys"
   ]
  },
  {
   "cell_type": "code",
   "execution_count": 6,
   "metadata": {},
   "outputs": [],
   "source": [
    "\"\"\"\n",
    "Check Hajos' conjecture on graphs of polytopes. More specifically:\n",
    "- Compute  the chromatic number t of the graph;\n",
    "- Check that the graph has K_t as a minor.\n",
    "\"\"\"\n",
    "def checkHajos2(fname,nvertices):\n",
    "    polys = []\n",
    "    for facets in getFacets(fname):\n",
    "        if facets:\n",
    "            edges = findEdges(facets)\n",
    "            G = Graph(edges)\n",
    "            C = G.chromatic_number();\n",
    "            #m = findLargestCompleteTopologicalMinor(G,6)\n",
    "            m = G.minor(graphs.CompleteGraph(C))\n",
    "            #t = findLargestCompleteMinor(G,10)\n",
    "            polys.append((facets,G,(C,m)))\n",
    "    return polys"
   ]
  },
  {
   "cell_type": "code",
   "execution_count": 7,
   "metadata": {},
   "outputs": [
    {
     "data": {
      "text/plain": [
       "False"
      ]
     },
     "execution_count": 7,
     "metadata": {},
     "output_type": "execute_result"
    }
   ],
   "source": [
    "# Read the polyopes with dimension 4 to 8 and number of vertices 6 to 10:\n",
    "hajos = [checkHajos2(\"polytope_n%dd%d.txt\"%(n,d),n) for n in range(6,10) for d in range(4,8)]\n",
    "hajos2 = [h for h in hajos if h != []]\n",
    "\n",
    "# This will return true if there is a graph that does not satisfy Hajós' conjecture in the list.\n",
    "any([d[2] == false for dat in hajos2 for d in dat])"
   ]
  },
  {
   "cell_type": "markdown",
   "metadata": {},
   "source": [
    "## Catlin’s Counter examples\n",
    "\n",
    "In this section we consider Catlin’s famous counter-example to Hajós’\n",
    "conjecture (Catlin 1979). In this paper, Catlin gives a family of graphs\n",
    "with chromatic number $n$ that contain no subdivided $K_n$ as a\n",
    "subgraph. The first counter-example is constructed by removing two non-adjacent vertices $v_1$ and $v_2$ from $L_{_3C_5}$ - namely, Catlin shows that $G = L(_3C_5) - \\{v_1,v_2\\}$ contradicts Hajós' conjecture. \n",
    "\n",
    "Here we show that $G$ is not the graph of a polytope."
   ]
  },
  {
   "cell_type": "code",
   "execution_count": 8,
   "metadata": {},
   "outputs": [],
   "source": [
    "# We start by constructing Catlin's counter-example:\n",
    "\n",
    "lm35=Graph(multiedges=False);\n",
    "lm35.add_edges([(1,2),(1,3),(1,4),(1,5),(1,6),(1,7),(1,8),(2,3),(2,4),(2,5),(2,6),(2,7),(2,8),(3,4),(3,5),(3,4),(3,9),(3,10),(4,5),(4,9),(4,10),(5,9),(5,10),(6,7),(6,8),(6,11),(6,12),(6,13),(7,8),(7,11),(7,12),(7,13),(8,11),(8,12),(8,13),(9,10),(9,11),(9,12),(9,13),(10,11),(10,12),(10,13),(11,12),(11,13),(12,13)])\n",
    "lm35.coloring()\n",
    "lm35.vertex_connectivity()\n",
    "lm35.topological_minor(graphs.CompleteGraph(6));"
   ]
  },
  {
   "cell_type": "markdown",
   "metadata": {},
   "source": [
    "First note that $G$ is not planar, and so cannot be the graph\n",
    "of a 3-polytope. Since it is not 5-connected (the vertices\n",
    "$\\{1,2,9,10\\}$ disconnect the graph, it\n",
    "cannot be the graph of a $d$-polytope for $d\\geq 5$. So, we only need to study the\n",
    "case $d=4$.\n",
    "\n",
    "The graphs of the facets of any 4-polytope must be planar, 3-connnected,\n",
    "and should not disconnect the entire graph."
   ]
  },
  {
   "cell_type": "code",
   "execution_count": 9,
   "metadata": {},
   "outputs": [],
   "source": [
    "# Get all the connected subgraphs of lm35 of order at most 10.\n",
    "LGraphs =list(lm35.connected_subgraph_iterator(k=10))\n",
    "\n",
    "P = set([1,2,9,10])\n",
    "\n",
    "\"\"\"\n",
    "A filter function that  accepts only graphs that are:\n",
    "- at least 4 vertices\n",
    "- minimum degree 3\n",
    "- is planar\n",
    "- the connectivity is at least 3\n",
    "\"\"\"\n",
    "def validSubgraph(H):\n",
    "    l = lm35.copy()\n",
    "    l.delete_vertices(H.vertices())\n",
    "    return  H.num_verts() >= 4 and  min(H.degree()) > 2  and H.is_planar() and  H.vertex_connectivity() >2 and l.is_connected()\n",
    "    # and not set(H.vertices()).issubset(P)\n",
    "\n",
    "#l2  =filter(validSubgraph,lm35.connected_subgraph_iterator(k=10))\n",
    "l2  = list(filter(validSubgraph,LGraphs))"
   ]
  },
  {
   "cell_type": "markdown",
   "metadata": {},
   "source": [
    "Let us consider those that\n",
    "contain Vertex $3$ and either of vertices 1,2 and 9. The graphs of\n",
    "these facets must be one of the following subgraphs of $G$.\n",
    "\n",
    "We start by finding the subsets containing the edge {1,3}."
   ]
  },
  {
   "cell_type": "code",
   "execution_count": 10,
   "metadata": {},
   "outputs": [
    {
     "name": "stdout",
     "output_type": "stream",
     "text": [
      "[[1, 3, 4, 5, 10], [1, 2, 3, 4], [1, 2, 3, 5], [1, 3, 4, 5], [1, 3, 4, 5, 9]]\n"
     ]
    }
   ],
   "source": [
    "# Get the 3-connected, planar subgraphs containing the edge (1,3):\n",
    "S13 = [l for l in l2 if (1,3,None) in l.edges() or (3,1,None) in l.edges()]\n",
    "print([s.vertices() for s  in S13])"
   ]
  },
  {
   "cell_type": "markdown",
   "metadata": {},
   "source": [
    "The edge $\\{1,3\\}$ must belong to at least three facets amongs the candidates:\n",
    "$\\{1,2,3,4\\}$,$\\{1,2,3,5\\}$,$\\{1,3,4,5,9\\}$,$\\{1,3,4,5,10\\}$,\n",
    "and $\\{1,3,4,5\\}$. At least one of these three facets must contain the\n",
    "vertices $\\{3,4,5\\}$. \n"
   ]
  },
  {
   "cell_type": "markdown",
   "metadata": {},
   "source": [
    "By a similar argument, the edge $\\{2,3\\}$ must\n",
    "also belong to a facet containing the vertices $\\{3,4,5\\}$:"
   ]
  },
  {
   "cell_type": "code",
   "execution_count": 11,
   "metadata": {},
   "outputs": [
    {
     "name": "stdout",
     "output_type": "stream",
     "text": [
      "[[2, 3, 4, 5, 10], [1, 2, 3, 4], [1, 2, 3, 5], [2, 3, 4, 5], [2, 3, 4, 5, 9]]\n"
     ]
    }
   ],
   "source": [
    "S23 = [l for l in l2 if (2,3,None) in l.edges() or (3,2,None) in l.edges()]\n",
    "print([s.vertices() for s  in S23])"
   ]
  },
  {
   "cell_type": "markdown",
   "metadata": {},
   "source": [
    " The\n",
    "intersection between these two facets is either the triangle\n",
    "$\\{3,4,5\\}$, or contains the four vertices $\\{3,4,5,k\\}$ for\n",
    "$k\\in \\{9,10\\}$. We can rule out the latter case, since this would\n",
    "require the graph of this 2-face to be complete.\n",
    "\n",
    "We can conclude that the sets of vertices $\\{1,3,4,5\\}$ and\n",
    "$\\{2,3,4,5\\}$ both form a facet of the polytope."
   ]
  },
  {
   "cell_type": "markdown",
   "metadata": {},
   "source": [
    "The edge$\\{3,9\\}$ must also belong to at least three facets, one of\n",
    "which contains the ridge $\\{3,4,5\\}$:"
   ]
  },
  {
   "cell_type": "code",
   "execution_count": 12,
   "metadata": {},
   "outputs": [
    {
     "name": "stdout",
     "output_type": "stream",
     "text": [
      "[[3, 4, 9, 10], [3, 5, 9, 10], [1, 3, 4, 5, 9], [2, 3, 4, 5, 9], [3, 4, 5, 9]]\n"
     ]
    }
   ],
   "source": [
    "S39 = [l for l in l2 if (3,9,None) in l.edges() or (9,3,None) in l.edges()]\n",
    "print([s.vertices() for s  in S39])"
   ]
  },
  {
   "cell_type": "markdown",
   "metadata": {},
   "source": [
    "This cannot happen, since this\n",
    "would imply that the ridge is contained in three distinct facets.\n",
    "\n",
    "Therefore we conclude that Catlin's example is not the graph of a polytope."
   ]
  },
  {
   "cell_type": "markdown",
   "metadata": {},
   "source": [
    "# Thompson’s conjecture\n",
    "\n",
    "Abigail Thompson made the following conjecture (Kalai 2014):\n",
    "\n",
    "Graphs of simple $d$-polytopes with an even number of vertices are\n",
    "$d$-colourable.\n",
    "\n",
    "We tested these conjecture of small polytopes provided by (Miyata,\n",
    "Moriyama, and Fukuda n.d.), using the following algorithm. Namely, we\n",
    "selected all simplicial polytopes in this collection with an even number\n",
    "of facets. We then verified that the chromatic numbers of each of these\n",
    "polytopes is at most $d$.\n",
    "\n",
    "The code is available in (Ugon, n.d.)"
   ]
  },
  {
   "cell_type": "code",
   "execution_count": 13,
   "metadata": {},
   "outputs": [],
   "source": [
    "\"\"\"\n",
    "This function returns the facets of the dual polytope, given a list of facets for the primal.\n",
    "\"\"\"\n",
    "def dualFacets(f):\n",
    "    nvertices = len(f)\n",
    "    facets = [Set([i for (i,facet) in enumerate(f) if v in facet]) for v in union(*f)]\n",
    "    return facets"
   ]
  },
  {
   "cell_type": "code",
   "execution_count": 14,
   "metadata": {},
   "outputs": [],
   "source": [
    "\"\"\"\n",
    "Check Thomson's conjecture on the dual of a d-polytope:\n",
    "\"\"\"\n",
    "def checkThompson(fname,d):\n",
    "    polytopes = getFacets(fname)\n",
    "    simplicialFacets = [facets for facets in polytopes if all(f.cardinality() == d for f in facets)]\n",
    "    evensimplificialFacets = [facets for facets in simplicialFacets if len(facets)%2 == 0]\n",
    "    edgeslists = [findEdges(facets) for facets in evensimplificialFacets]\n",
    "    graphs = [Graph(edges) for edges in edgeslists]\n",
    "    return [(d,graph_coloring.edge_coloring(G,value_only=true)) for G in graphs]"
   ]
  },
  {
   "cell_type": "code",
   "execution_count": 15,
   "metadata": {},
   "outputs": [
    {
     "data": {
      "text/plain": [
       "False"
      ]
     },
     "execution_count": 15,
     "metadata": {},
     "output_type": "execute_result"
    }
   ],
   "source": [
    "# Read the polyopes with dimension 4 to 8 and number of vertices 6 to 10:\n",
    "thompson = [checkThompson(\"polytope_n%dd%d.txt\"%(n,d),d) for n in range(6,10) for d in range(4,8)]\n",
    "\n",
    "#This will return true if there is a polytope that does not satisfy Thompson's conjecture\n",
    "any([x[0]<x[1] for x in sum(thompson,[])])"
   ]
  },
  {
   "cell_type": "markdown",
   "metadata": {},
   "source": [
    "# References\n",
    "\n",
    "<div id=\"refs\" class=\"references hanging-indent\">\n",
    "\n",
    "<div id=\"ref-catlin1979hajos\">\n",
    "\n",
    "Catlin, Paul A. 1979. “Hajós’ Graph-Coloring Conjecture: Variations and\n",
    "Counterexamples.” *Journal of Combinatorial Theory, Series B* 26 (2):\n",
    "268–74.\n",
    "\n",
    "</div>\n",
    "\n",
    "<div id=\"ref-kal14\">\n",
    "\n",
    "Kalai, Gil. 2014. “Coloring Simple Polytopes and Triangulations.” 2014.\n",
    "<https://gilkalai.wordpress.com/2014/12/06/coloring-simple-polytopes-and-triangulations/>.\n",
    "\n",
    "</div>\n",
    "\n",
    "<div id=\"ref-matroids\">\n",
    "\n",
    "Miyata, Hiroyuki, Sonoko Moriyama, and Komei Fukuda. n.d.\n",
    "“Classification of Oriented Matroids.” Accessed January 3, 2020.\n",
    "<http://www-imai.is.s.u-tokyo.ac.jp/~hmiyata/oriented_matroids/>.\n",
    "\n",
    "</div>\n",
    "\n",
    "<div id=\"ref-SteinJoyner2005\">\n",
    "\n",
    "Stein, William, and David Joyner. 2005. “SAGE: System for Algebra and\n",
    "Geometry Experimentation.” *ACM SIGSAM Bulletin* 39 (2): 61–64.\n",
    "<http://www.sagemath.org/files/sage_stein2005.pdf>.\n",
    "\n",
    "</div>\n",
    "\n",
    "<div id=\"ref-repo\">\n",
    "\n",
    "Ugon, Julien. n.d. “Github Repository.”\n",
    "<https://github.com/ugonj/Graphs-of-Polytopes>.\n",
    "\n",
    "</div>\n",
    "\n"
   ]
  }
 ],
 "metadata": {
  "kernelspec": {
   "display_name": "SageMath 9.0",
   "language": "sage",
   "name": "sagemath"
  },
  "language_info": {
   "codemirror_mode": {
    "name": "ipython",
    "version": 3
   },
   "file_extension": ".py",
   "mimetype": "text/x-python",
   "name": "python",
   "nbconvert_exporter": "python",
   "pygments_lexer": "ipython3",
   "version": "3.8.1"
  }
 },
 "nbformat": 4,
 "nbformat_minor": 4
}
