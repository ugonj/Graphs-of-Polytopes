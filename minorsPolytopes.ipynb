{
 "cells": [
  {
   "cell_type": "markdown",
   "metadata": {},
   "source": [
    "## Instructions\n",
    "\n",
    "In order to run this program, please download the files provided at http://www-imai.is.s.u-tokyo.ac.jp/~hmiyata/oriented_matroids/ and unzip the files in the folder."
   ]
  },
  {
   "cell_type": "markdown",
   "metadata": {},
   "source": [
    "## Initial functions"
   ]
  },
  {
   "cell_type": "code",
   "execution_count": 1,
   "metadata": {},
   "outputs": [],
   "source": [
    "\"\"\"\n",
    "Get the list of facets from a file:\n",
    "\"\"\"\n",
    "def getFacets(fname):\n",
    "    if isinstance(fname,str):\n",
    "        try:\n",
    "            return getFacets(open(fname,\"r\"))\n",
    "        except:\n",
    "            return []\n",
    "    \n",
    "    return [[Set(eval(f)) for f in l.split()] for l in fname]"
   ]
  },
  {
   "cell_type": "code",
   "execution_count": 2,
   "metadata": {},
   "outputs": [],
   "source": [
    "def intersect(*args):\n",
    "    if(len(args)) == 1:\n",
    "        return args[0]\n",
    "    return args[0].intersection(intersect(*args[1:]))\n",
    "\n",
    "def union(*args):\n",
    "    if(len(args)) == 1:\n",
    "        return args[0]\n",
    "    return args[0].union(intersect(*args[1:]))"
   ]
  },
  {
   "cell_type": "code",
   "execution_count": 3,
   "metadata": {},
   "outputs": [],
   "source": [
    "\"\"\"\n",
    "Given a facet-vertex incidence, give the edges.\n",
    "\n",
    "This works as follows:\n",
    "- take all possible pairs of vertices (C(n,2));\n",
    "- For each pair, take all the facets containing both vertices\n",
    "- The  intersection of these facets is precisely these two vertices if and only if it's an edge.\n",
    "\"\"\"\n",
    "def findEdges(facets):\n",
    "    vertices = union(*facets)\n",
    "    #take all pairs of vertices:\n",
    "    V = [(v,w) for v in vertices for w in vertices if v<w]\n",
    "    L = []\n",
    "    U = Set(vertices)\n",
    "    for (v,w) in V:\n",
    "        F = [f for  f in facets if v in f and w in f]\n",
    "        E = intersect(*F)\n",
    "        if E.cardinality() == 2:\n",
    "            L.append(E)\n",
    "    return [tuple(e) for e in L]"
   ]
  },
  {
   "cell_type": "markdown",
   "metadata": {},
   "source": [
    "## Hajòs' conjecture\n",
    "\n",
    "In this section we verify that the graphs of all \"small\" polytopes satisfy Hajòs' conjecture."
   ]
  },
  {
   "cell_type": "code",
   "execution_count": 1,
   "metadata": {},
   "outputs": [],
   "source": [
    "def findLargestCompleteTopologicalMinor(H,n):\n",
    "    k = n\n",
    "    while H.topological_minor(graphs.CompleteGraph(k)) :\n",
    "        k = k+1\n",
    "    return k\n",
    "\n",
    "def findLargestCompleteMinor(H,n):\n",
    "    k = n\n",
    "    while not (H.minor(graphs.CompleteGraph(k))) :\n",
    "        k = k-1\n",
    "    return k"
   ]
  },
  {
   "cell_type": "code",
   "execution_count": 10,
   "metadata": {},
   "outputs": [],
   "source": [
    "\"\"\"\n",
    "Check Hajos' conjecture on graphs of polytopes. More specifically:\n",
    "- Compute  the chromatic number t of the graph;\n",
    "- Check that the graph has K_t as a minor.\n",
    "\"\"\"\n",
    "def checkHajos(fname):\n",
    "    fpol = open(fname,\"r\")\n",
    "    lines = fpol.readlines()\n",
    "    fpol.close()\n",
    "    polys = []\n",
    "    for l in lines:\n",
    "       P = Polyhedron(vertices=eval(l[l.index(\"[\"):]),base_ring=QQ)\n",
    "       G = P.graph()\n",
    "       C = G.chromatic_number();\n",
    "       #m = findLargestCompleteTopologicalMinor(G,6)\n",
    "       m = G.minor(graphs.CompleteGraph(C))\n",
    "       #t = findLargestCompleteMinor(G,10)\n",
    "       polys.append((P,G,(C,m)))\n",
    "    return polys"
   ]
  },
  {
   "cell_type": "code",
   "execution_count": null,
   "metadata": {},
   "outputs": [],
   "source": [
    "any([d[2] == false for dat in hajos for d in dat])"
   ]
  },
  {
   "cell_type": "code",
   "execution_count": 4,
   "metadata": {},
   "outputs": [],
   "source": [
    "\"\"\"\n",
    "Check Hajos' conjecture on graphs of polytopes. More specifically:\n",
    "- Compute  the chromatic number t of the graph;\n",
    "- Check that the graph has K_t as a minor.\n",
    "\"\"\"\n",
    "def checkHajos2(fname,nvertices):\n",
    "    polys = []\n",
    "    for facets in getFacets(fname):\n",
    "        if facets:\n",
    "            edges = findEdges(facets)\n",
    "            G = Graph(edges)\n",
    "            C = G.chromatic_number();\n",
    "            #m = findLargestCompleteTopologicalMinor(G,6)\n",
    "            m = G.minor(graphs.CompleteGraph(C))\n",
    "            #t = findLargestCompleteMinor(G,10)\n",
    "            polys.append((facets,G,(C,m)))\n",
    "    return polys"
   ]
  },
  {
   "cell_type": "code",
   "execution_count": 5,
   "metadata": {},
   "outputs": [
    {
     "data": {
      "text/plain": [
       "False"
      ]
     },
     "execution_count": 5,
     "metadata": {},
     "output_type": "execute_result"
    }
   ],
   "source": [
    "hajos = [checkHajos2(\"polytope_n%dd%d.txt\"%(n,d),n) for n in range(6,10) for d in range(4,8)]\n",
    "\n",
    "hajos2 = [h for h in hajos if h != []]\n",
    "\n",
    "any([d[2] == false for dat in hajos2 for d in dat])"
   ]
  },
  {
   "cell_type": "code",
   "execution_count": 11,
   "metadata": {},
   "outputs": [
    {
     "data": {
      "text/plain": [
       "False"
      ]
     },
     "execution_count": 11,
     "metadata": {},
     "output_type": "execute_result"
    }
   ],
   "source": [
    "hajosSimplex = checkHajos(\"polytopalsimplicialspheres9_4.txt\")\n",
    "\n",
    "any([d[2] == false for d in hajosSimplex])"
   ]
  },
  {
   "cell_type": "markdown",
   "metadata": {},
   "source": [
    "## Thomson's conjecture on edge colouring\n",
    "\n",
    "We check Thomson's conjecture on \"small\" polytopes. Namely, check that it applies on the duals of simplicial polytopes."
   ]
  },
  {
   "cell_type": "code",
   "execution_count": 13,
   "metadata": {},
   "outputs": [],
   "source": [
    "\"\"\"\n",
    "This function returns the facets of the dual polytope, given a list of facets for the primal.\n",
    "\"\"\"\n",
    "def dualFacets(f):\n",
    "    nvertices = len(f)\n",
    "    facets = [Set([i for (i,facet) in enumerate(f) if v in facet]) for v in union(*f)]\n",
    "    return facets"
   ]
  },
  {
   "cell_type": "code",
   "execution_count": 19,
   "metadata": {},
   "outputs": [],
   "source": [
    "\"\"\"\n",
    "Check Thomson's conjecture on the dual of a d-polytope:\n",
    "\"\"\"\n",
    "def checkThompson(fname,d):\n",
    "    polytopes = getFacets(fname)\n",
    "    simplicialFacets = [facets for facets in polytopes if all(f.cardinality() == d for f in facets)]\n",
    "    evensimplificialFacets = [facets for facets in simplicialFacets if len(facets)%2 == 0]\n",
    "    edgeslists = [findEdges(facets) for facets in evensimplificialFacets]\n",
    "    graphs = [Graph(edges) for edges in edgeslists]\n",
    "    return [(d,graph_coloring.edge_coloring(G,value_only=true)) for G in graphs]"
   ]
  },
  {
   "cell_type": "code",
   "execution_count": 20,
   "metadata": {},
   "outputs": [],
   "source": [
    "thompson = [checkThompson(\"polytope_n%dd%d.txt\"%(n,d),d) for n in range(6,10) for d in range(4,8)]"
   ]
  },
  {
   "cell_type": "code",
   "execution_count": 25,
   "metadata": {},
   "outputs": [
    {
     "data": {
      "text/plain": [
       "False"
      ]
     },
     "execution_count": 25,
     "metadata": {},
     "output_type": "execute_result"
    }
   ],
   "source": [
    "any([x[0]<x[1] for x in sum(thompson,[])])"
   ]
  },
  {
   "cell_type": "code",
   "execution_count": null,
   "metadata": {},
   "outputs": [],
   "source": []
  }
 ],
 "metadata": {
  "kernelspec": {
   "display_name": "SageMath 9.0",
   "language": "sage",
   "name": "sagemath"
  },
  "language_info": {
   "codemirror_mode": {
    "name": "ipython",
    "version": 3
   },
   "file_extension": ".py",
   "mimetype": "text/x-python",
   "name": "python",
   "nbconvert_exporter": "python",
   "pygments_lexer": "ipython3",
   "version": "3.8.1"
  }
 },
 "nbformat": 4,
 "nbformat_minor": 4
}
